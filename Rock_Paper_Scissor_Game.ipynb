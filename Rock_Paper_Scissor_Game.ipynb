{
  "cells": [
    {
      "cell_type": "code",
      "source": [
        "import random\n",
        "\n",
        "def play_rock_paper_scissors():\n",
        "  \"\"\"Plays a game of Rock, Paper, Scissors against the computer.\"\"\"\n",
        "\n",
        "  options = [\"rock\", \"paper\", \"scissors\"]\n",
        "\n",
        "  while True:\n",
        "    user_choice = input(\"Enter your choice (rock, paper, scissors): \").lower()\n",
        "\n",
        "    if user_choice not in options:\n",
        "      print(\"Invalid choice. Please enter rock, paper, or scissors.\")\n",
        "      continue\n",
        "\n",
        "    computer_choice = random.choice(options)\n",
        "\n",
        "    print(f\"\\nYou chose: {user_choice}\")\n",
        "    print(f\"Computer chose: {computer_choice}\")\n",
        "\n",
        "    if user_choice == computer_choice:\n",
        "      print(\"It's a tie!\")\n",
        "    elif user_choice == \"rock\" and computer_choice == \"scissors\":\n",
        "      print(\"You win! Rock smashes scissors.\")\n",
        "    elif user_choice == \"paper\" and computer_choice == \"rock\":\n",
        "      print(\"You win! Paper covers rock.\")\n",
        "    elif user_choice == \"scissors\" and computer_choice == \"paper\":\n",
        "      print(\"You win! Scissors cuts paper.\")\n",
        "    else:\n",
        "      print(\"You lose!\")\n",
        "\n",
        "    play_again = input(\"Play again? (yes/no): \").lower()\n",
        "    if play_again != \"yes\":\n",
        "      print(\"Thank you for playing!\")\n",
        "      break\n",
        "\n",
        "if __name__ == \"__main__\":\n",
        "  play_rock_paper_scissors()\n"
      ],
      "outputs": [
        {
          "output_type": "stream",
          "name": "stdout",
          "text": [
            "Enter your choice (rock, paper, scissors): rock\n",
            "\n",
            "You chose: rock\n",
            "Computer chose: rock\n",
            "It's a tie!\n",
            "Play again? (yes/no): yes\n",
            "Enter your choice (rock, paper, scissors): scissors\n",
            "\n",
            "You chose: scissors\n",
            "Computer chose: rock\n",
            "You lose!\n",
            "Play again? (yes/no): yes\n",
            "Enter your choice (rock, paper, scissors): paper\n",
            "\n",
            "You chose: paper\n",
            "Computer chose: rock\n",
            "You win! Paper covers rock.\n",
            "Play again? (yes/no): no\n",
            "Thank you for playing!\n"
          ]
        }
      ],
      "execution_count": null,
      "metadata": {
        "id": "60DsofVgtJT8",
        "colab": {
          "base_uri": "https://localhost:8080/"
        },
        "outputId": "05ebbded-b9fb-4fdb-9d76-f28bcc75d91d"
      }
    }
  ],
  "metadata": {
    "colab": {
      "provenance": []
    },
    "kernelspec": {
      "display_name": "Python 3",
      "name": "python3"
    }
  },
  "nbformat": 4,
  "nbformat_minor": 0
}